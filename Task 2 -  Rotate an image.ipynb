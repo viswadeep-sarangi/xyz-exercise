{
 "cells": [
  {
   "cell_type": "markdown",
   "metadata": {},
   "source": [
    "<img src=\"./pics/Task 2.png\">"
   ]
  },
  {
   "cell_type": "code",
   "execution_count": 4,
   "metadata": {},
   "outputs": [],
   "source": [
    "inp = [[1, 2, 3, 4, 5, 6, 7],\n",
    "[3, 4, 2, 1, 8, 1, 5],\n",
    "[2, 1, 6, 3, 2, 2, 1],\n",
    "[7, 3, 3, 7, 0, 2, 2]]\n"
   ]
  },
  {
   "cell_type": "code",
   "execution_count": 5,
   "metadata": {},
   "outputs": [
    {
     "name": "stdout",
     "output_type": "stream",
     "text": [
      "[(7, 2, 3, 1), (3, 1, 4, 2), (3, 6, 2, 3), (7, 3, 1, 4), (0, 2, 8, 5), (2, 2, 1, 6), (2, 1, 5, 7)]\n"
     ]
    }
   ],
   "source": [
    "out=[]\n",
    "\n",
    "for x in zip(*inp):\n",
    "    out.append(x[::-1])\n",
    "\n",
    "print(out)"
   ]
  },
  {
   "cell_type": "markdown",
   "metadata": {},
   "source": [
    "Complexity of the algorithm is O(n) as there's only one loop"
   ]
  },
  {
   "cell_type": "code",
   "execution_count": null,
   "metadata": {},
   "outputs": [],
   "source": []
  }
 ],
 "metadata": {
  "kernelspec": {
   "display_name": "Python 3",
   "language": "python",
   "name": "python3"
  },
  "language_info": {
   "codemirror_mode": {
    "name": "ipython",
    "version": 3
   },
   "file_extension": ".py",
   "mimetype": "text/x-python",
   "name": "python",
   "nbconvert_exporter": "python",
   "pygments_lexer": "ipython3",
   "version": "3.7.6"
  }
 },
 "nbformat": 4,
 "nbformat_minor": 4
}
