{
 "cells": [
  {
   "cell_type": "markdown",
   "metadata": {},
   "source": [
    "<img src=\"pics/Task 1.png\">"
   ]
  },
  {
   "cell_type": "code",
   "execution_count": 11,
   "metadata": {},
   "outputs": [],
   "source": [
    "import numpy as np\n",
    "import sys"
   ]
  },
  {
   "cell_type": "code",
   "execution_count": 3,
   "metadata": {},
   "outputs": [],
   "source": [
    "ex = [[1,2,2,1],[3,1,2],[1,3,2],[2,4],[1,3,1,1]]"
   ]
  },
  {
   "cell_type": "code",
   "execution_count": 13,
   "metadata": {},
   "outputs": [
    {
     "name": "stdout",
     "output_type": "stream",
     "text": [
      "[[1, 0, 1, 1, 0, 1, 1, 0, 1, 0], [1, 1, 1, 0, 1, 0, 1, 1, 0], [1, 0, 1, 1, 1, 0, 1, 1, 0], [1, 1, 0, 1, 1, 1, 1, 0], [1, 0, 1, 1, 1, 0, 1, 0, 1, 0]]\n",
      "8\n"
     ]
    }
   ],
   "source": [
    "expanded=[]\n",
    "shortest_line_length = sys.maxsize\n",
    "for row in ex:\n",
    "    ex_row=[]\n",
    "    for num in row:\n",
    "        for i in range(num):\n",
    "            ex_row.append(1)\n",
    "        ex_row.append(0)\n",
    "    expanded.append(ex_row)\n",
    "    if len(ex_row)<shortest_line_length:\n",
    "        shortest_line_length = len(ex_row)\n",
    "    \n",
    "print(expanded)\n",
    "print(shortest_line_length)"
   ]
  },
  {
   "cell_type": "code",
   "execution_count": 20,
   "metadata": {},
   "outputs": [
    {
     "name": "stdout",
     "output_type": "stream",
     "text": [
      "Cars = (1, 1, 1, 1, 1). Number of cars to cross = 5\n",
      "Cars = (0, 1, 0, 1, 0). Number of cars to cross = 2\n",
      "Cars = (1, 1, 1, 0, 1). Number of cars to cross = 4\n",
      "Cars = (1, 0, 1, 1, 1). Number of cars to cross = 4\n",
      "Cars = (0, 1, 1, 1, 1). Number of cars to cross = 4\n",
      "Cars = (1, 0, 0, 1, 0). Number of cars to cross = 2\n",
      "Cars = (1, 1, 1, 1, 1). Number of cars to cross = 5\n",
      "Cars = (0, 1, 1, 0, 0). Number of cars to cross = 2\n"
     ]
    }
   ],
   "source": [
    "minimum_no_cars = sys.maxsize\n",
    "for col in zip(*expanded):\n",
    "    print(\"Cars = {0}. Number of cars to cross = {1}\".format(col, sum(col)))\n",
    "    if sum(col)<minimum_no_cars:\n",
    "        minimum_no_cars = sum(col)"
   ]
  },
  {
   "cell_type": "code",
   "execution_count": 21,
   "metadata": {},
   "outputs": [
    {
     "name": "stdout",
     "output_type": "stream",
     "text": [
      "Minimum number of cars to cross = 2\n"
     ]
    }
   ],
   "source": [
    "print(\"Minimum number of cars to cross = {}\".format(minimum_no_cars))"
   ]
  },
  {
   "cell_type": "code",
   "execution_count": null,
   "metadata": {},
   "outputs": [],
   "source": []
  }
 ],
 "metadata": {
  "kernelspec": {
   "display_name": "Python 3",
   "language": "python",
   "name": "python3"
  },
  "language_info": {
   "codemirror_mode": {
    "name": "ipython",
    "version": 3
   },
   "file_extension": ".py",
   "mimetype": "text/x-python",
   "name": "python",
   "nbconvert_exporter": "python",
   "pygments_lexer": "ipython3",
   "version": "3.7.6"
  }
 },
 "nbformat": 4,
 "nbformat_minor": 4
}
